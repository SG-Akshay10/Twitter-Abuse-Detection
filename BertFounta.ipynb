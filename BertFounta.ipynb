{
 "cells": [
  {
   "cell_type": "markdown",
   "metadata": {
    "id": "RPFnYitctEiu"
   },
   "source": [
    "# **Twitter Abuse Detection**\n",
    "---"
   ]
  },
  {
   "cell_type": "markdown",
   "metadata": {
    "id": "nQqjyMKztAUZ"
   },
   "source": [
    "### **IMPORTING DEPENDENCIES AND DATASET**\n",
    "\n",
    "---\n",
    "\n"
   ]
  },
  {
   "cell_type": "code",
   "execution_count": 61,
   "metadata": {
    "id": "RmAjy6bLPJHX"
   },
   "outputs": [],
   "source": [
    "import pandas as pd\n",
    "import numpy as np\n",
    "from sklearn.feature_extraction.text import TfidfVectorizer\n",
    "from sklearn.model_selection import train_test_split\n",
    "from sklearn.svm import SVC\n",
    "from sklearn.metrics import classification_report, accuracy_score, confusion_matrix\n",
    "from xgboost import XGBClassifier\n",
    "from sklearn.neural_network import MLPClassifier"
   ]
  },
  {
   "cell_type": "code",
   "execution_count": 62,
   "metadata": {},
   "outputs": [],
   "source": [
    "import matplotlib.pyplot as plt\n",
    "import seaborn as sns\n",
    "from transformers import BertTokenizer, BertForSequenceClassification, pipeline\n",
    "import torch\n",
    "import random"
   ]
  },
  {
   "cell_type": "code",
   "execution_count": 63,
   "metadata": {
    "id": "6UtIVsU5PKrW"
   },
   "outputs": [],
   "source": [
    "df = pd.read_excel(r\"FountaDataset.xlsx\")\n",
    "df.drop(columns=[\"No.Of Votes\"],axis=1,inplace=True)\n",
    "df.rename(columns={'Majority Label': 'class',\"Tweets\":\"tweet\"}, inplace=True)\n",
    "df = df.dropna()"
   ]
  },
  {
   "cell_type": "code",
   "execution_count": 64,
   "metadata": {
    "scrolled": false
   },
   "outputs": [],
   "source": [
    "df1 = df.copy()"
   ]
  },
  {
   "cell_type": "code",
   "execution_count": 65,
   "metadata": {},
   "outputs": [
    {
     "data": {
      "text/plain": [
       "class\n",
       "normal     53850\n",
       "abusive    27149\n",
       "spam       14030\n",
       "hateful     4965\n",
       "Name: count, dtype: int64"
      ]
     },
     "execution_count": 65,
     "metadata": {},
     "output_type": "execute_result"
    }
   ],
   "source": [
    "df['class'].value_counts()"
   ]
  },
  {
   "cell_type": "code",
   "execution_count": 66,
   "metadata": {},
   "outputs": [],
   "source": [
    "df1['class'] = df1['class'].map({\n",
    "    'normal': 'Neutral',\n",
    "    'abusive': 'Abusive',\n",
    "    'hateful': 'Hate',\n",
    "    'spam':'Neutral'\n",
    "})"
   ]
  },
  {
   "cell_type": "code",
   "execution_count": 67,
   "metadata": {
    "id": "tLybBMWsPXXP"
   },
   "outputs": [],
   "source": [
    "# Data preprocessing\n",
    "tweet = df1['tweet'].tolist()\n",
    "true_label = df1['class'].tolist()"
   ]
  },
  {
   "cell_type": "code",
   "execution_count": 68,
   "metadata": {},
   "outputs": [],
   "source": [
    "sample_size = 3000 \n",
    "sample_indices = random.sample(range(len(df)), sample_size)"
   ]
  },
  {
   "cell_type": "markdown",
   "metadata": {
    "id": "Vm8Q680R76mT"
   },
   "source": [
    "# **Transformer Embeddings**"
   ]
  },
  {
   "cell_type": "code",
   "execution_count": 69,
   "metadata": {
    "colab": {
     "base_uri": "https://localhost:8080/"
    },
    "id": "p-DerABQ8RhB",
    "outputId": "eca156ff-d9d1-4702-a844-cdc72e805224",
    "scrolled": false
   },
   "outputs": [
    {
     "name": "stderr",
     "output_type": "stream",
     "text": [
      "WARNING: Ignoring invalid distribution -rotobuf (d:\\anaconda\\envs\\ten_gpu\\lib\\site-packages)\n",
      "WARNING: Ignoring invalid distribution -rotobuf (d:\\anaconda\\envs\\ten_gpu\\lib\\site-packages)\n"
     ]
    }
   ],
   "source": [
    "#!pip install transformers\n",
    "# A dependency of the preprocessing for BERT inputs\n",
    "#!pip install -q tensorflow-text\n",
    "!pip install -q tf-models-official"
   ]
  },
  {
   "cell_type": "code",
   "execution_count": 70,
   "metadata": {
    "colab": {
     "base_uri": "https://localhost:8080/"
    },
    "id": "O_BeRK5L7_Tj",
    "outputId": "93f3db3b-691e-40cb-f1c7-9e80bfacb98b"
   },
   "outputs": [
    {
     "name": "stdout",
     "output_type": "stream",
     "text": [
      "2.10.1\n"
     ]
    }
   ],
   "source": [
    "from sklearn.model_selection import GroupKFold\n",
    "from tqdm.notebook import tqdm\n",
    "import tensorflow as tf\n",
    "import tensorflow_hub as hub\n",
    "import tensorflow_text as text\n",
    "import tensorflow.keras.backend as K\n",
    "from scipy.stats import spearmanr\n",
    "from math import floor, ceil\n",
    "from transformers import *\n",
    "\n",
    "np.set_printoptions(suppress=True)\n",
    "print(tf.__version__)\n",
    "\n",
    "import shutil\n",
    "\n",
    "from official.nlp import optimization  # to create AdamW optmizer\n",
    "\n",
    "tf.get_logger().setLevel('ERROR')"
   ]
  },
  {
   "cell_type": "code",
   "execution_count": 71,
   "metadata": {
    "id": "-Q3E5yfU852D"
   },
   "outputs": [],
   "source": [
    "df0 = df.copy()\n",
    "c=df0['class']\n",
    "df0.rename(columns={'tweet' : 'text','class' : 'category'},inplace=True)"
   ]
  },
  {
   "cell_type": "code",
   "execution_count": 72,
   "metadata": {
    "id": "pCkBhHQDB9AY"
   },
   "outputs": [],
   "source": [
    "a=df0['text']\n",
    "b=df0['category'].map({0: 'hate_speech', 1: 'offensive_language',2: 'neither'})"
   ]
  },
  {
   "cell_type": "code",
   "execution_count": 73,
   "metadata": {
    "colab": {
     "base_uri": "https://localhost:8080/",
     "height": 424
    },
    "id": "H8CZHnXkEgj_",
    "outputId": "c77ecc8c-88ab-45a1-b3ee-df1c0aeb7cf8"
   },
   "outputs": [
    {
     "data": {
      "text/html": [
       "<div>\n",
       "<style scoped>\n",
       "    .dataframe tbody tr th:only-of-type {\n",
       "        vertical-align: middle;\n",
       "    }\n",
       "\n",
       "    .dataframe tbody tr th {\n",
       "        vertical-align: top;\n",
       "    }\n",
       "\n",
       "    .dataframe thead th {\n",
       "        text-align: right;\n",
       "    }\n",
       "</style>\n",
       "<table border=\"1\" class=\"dataframe\">\n",
       "  <thead>\n",
       "    <tr style=\"text-align: right;\">\n",
       "      <th></th>\n",
       "      <th>text</th>\n",
       "      <th>category</th>\n",
       "      <th>label</th>\n",
       "    </tr>\n",
       "  </thead>\n",
       "  <tbody>\n",
       "    <tr>\n",
       "      <th>0</th>\n",
       "      <td>Beats by Dr. Dre urBeats Wired In-Ear Headphon...</td>\n",
       "      <td>NaN</td>\n",
       "      <td>spam</td>\n",
       "    </tr>\n",
       "    <tr>\n",
       "      <th>1</th>\n",
       "      <td>RT @Papapishu: Man it would fucking rule if we...</td>\n",
       "      <td>NaN</td>\n",
       "      <td>abusive</td>\n",
       "    </tr>\n",
       "    <tr>\n",
       "      <th>2</th>\n",
       "      <td>It is time to draw close to Him &amp;#128591;&amp;#127...</td>\n",
       "      <td>NaN</td>\n",
       "      <td>normal</td>\n",
       "    </tr>\n",
       "    <tr>\n",
       "      <th>3</th>\n",
       "      <td>if you notice me start to act different or dis...</td>\n",
       "      <td>NaN</td>\n",
       "      <td>normal</td>\n",
       "    </tr>\n",
       "    <tr>\n",
       "      <th>4</th>\n",
       "      <td>Forget unfollowers, I believe in growing. 7 ne...</td>\n",
       "      <td>NaN</td>\n",
       "      <td>normal</td>\n",
       "    </tr>\n",
       "    <tr>\n",
       "      <th>...</th>\n",
       "      <td>...</td>\n",
       "      <td>...</td>\n",
       "      <td>...</td>\n",
       "    </tr>\n",
       "    <tr>\n",
       "      <th>99991</th>\n",
       "      <td>RT @shangros: my fucking queen https://t.co/wa...</td>\n",
       "      <td>NaN</td>\n",
       "      <td>abusive</td>\n",
       "    </tr>\n",
       "    <tr>\n",
       "      <th>99992</th>\n",
       "      <td>#Osteporosis treated with #PEMF - rebuild bone...</td>\n",
       "      <td>NaN</td>\n",
       "      <td>normal</td>\n",
       "    </tr>\n",
       "    <tr>\n",
       "      <th>99993</th>\n",
       "      <td>@LGUSAMobile why does my phone screen keeps fl...</td>\n",
       "      <td>NaN</td>\n",
       "      <td>normal</td>\n",
       "    </tr>\n",
       "    <tr>\n",
       "      <th>99994</th>\n",
       "      <td>#bigdata vs. #reality ... but equally applies ...</td>\n",
       "      <td>NaN</td>\n",
       "      <td>normal</td>\n",
       "    </tr>\n",
       "    <tr>\n",
       "      <th>99995</th>\n",
       "      <td>you can do whatever you choose, if you first g...</td>\n",
       "      <td>NaN</td>\n",
       "      <td>normal</td>\n",
       "    </tr>\n",
       "  </tbody>\n",
       "</table>\n",
       "<p>99994 rows × 3 columns</p>\n",
       "</div>"
      ],
      "text/plain": [
       "                                                    text category    label\n",
       "0      Beats by Dr. Dre urBeats Wired In-Ear Headphon...      NaN     spam\n",
       "1      RT @Papapishu: Man it would fucking rule if we...      NaN  abusive\n",
       "2      It is time to draw close to Him &#128591;&#127...      NaN   normal\n",
       "3      if you notice me start to act different or dis...      NaN   normal\n",
       "4      Forget unfollowers, I believe in growing. 7 ne...      NaN   normal\n",
       "...                                                  ...      ...      ...\n",
       "99991  RT @shangros: my fucking queen https://t.co/wa...      NaN  abusive\n",
       "99992  #Osteporosis treated with #PEMF - rebuild bone...      NaN   normal\n",
       "99993  @LGUSAMobile why does my phone screen keeps fl...      NaN   normal\n",
       "99994  #bigdata vs. #reality ... but equally applies ...      NaN   normal\n",
       "99995  you can do whatever you choose, if you first g...      NaN   normal\n",
       "\n",
       "[99994 rows x 3 columns]"
      ]
     },
     "execution_count": 73,
     "metadata": {},
     "output_type": "execute_result"
    }
   ],
   "source": [
    "df= pd.concat([a,b,c], axis=1)\n",
    "df.rename(columns={'class' : 'label'},inplace=True)\n",
    "df"
   ]
  },
  {
   "cell_type": "code",
   "execution_count": 74,
   "metadata": {
    "colab": {
     "base_uri": "https://localhost:8080/",
     "height": 175
    },
    "id": "lOOMZNFTEw63",
    "outputId": "c19a2997-914f-44c4-a668-ad1e939adb8f"
   },
   "outputs": [
    {
     "data": {
      "text/html": [
       "<div>\n",
       "<style scoped>\n",
       "    .dataframe tbody tr th:only-of-type {\n",
       "        vertical-align: middle;\n",
       "    }\n",
       "\n",
       "    .dataframe tbody tr th {\n",
       "        vertical-align: top;\n",
       "    }\n",
       "\n",
       "    .dataframe thead th {\n",
       "        text-align: right;\n",
       "    }\n",
       "</style>\n",
       "<table border=\"1\" class=\"dataframe\">\n",
       "  <thead>\n",
       "    <tr style=\"text-align: right;\">\n",
       "      <th></th>\n",
       "      <th>text</th>\n",
       "      <th>category</th>\n",
       "    </tr>\n",
       "    <tr>\n",
       "      <th>label</th>\n",
       "      <th></th>\n",
       "      <th></th>\n",
       "    </tr>\n",
       "  </thead>\n",
       "  <tbody>\n",
       "    <tr>\n",
       "      <th>abusive</th>\n",
       "      <td>27149</td>\n",
       "      <td>0</td>\n",
       "    </tr>\n",
       "    <tr>\n",
       "      <th>hateful</th>\n",
       "      <td>4965</td>\n",
       "      <td>0</td>\n",
       "    </tr>\n",
       "    <tr>\n",
       "      <th>normal</th>\n",
       "      <td>53850</td>\n",
       "      <td>0</td>\n",
       "    </tr>\n",
       "    <tr>\n",
       "      <th>spam</th>\n",
       "      <td>14030</td>\n",
       "      <td>0</td>\n",
       "    </tr>\n",
       "  </tbody>\n",
       "</table>\n",
       "</div>"
      ],
      "text/plain": [
       "          text  category\n",
       "label                   \n",
       "abusive  27149         0\n",
       "hateful   4965         0\n",
       "normal   53850         0\n",
       "spam     14030         0"
      ]
     },
     "execution_count": 74,
     "metadata": {},
     "output_type": "execute_result"
    }
   ],
   "source": [
    "df.groupby('label').count()"
   ]
  },
  {
   "cell_type": "code",
   "execution_count": 75,
   "metadata": {
    "id": "Ebvk5v2hFAhn"
   },
   "outputs": [],
   "source": [
    "### Splitting the data between train, validation and test sets:\n",
    "X_train_, X_test, y_train_, y_test = train_test_split(\n",
    "    df.index.values,\n",
    "    df.label.values,\n",
    "    test_size=0.10,\n",
    "    random_state=42,\n",
    "    stratify=df.label.values,\n",
    ")\n",
    "\n",
    "X_train, X_val, y_train, y_val = train_test_split(\n",
    "    df.loc[X_train_].index.values,\n",
    "    df.loc[X_train_].label.values,\n",
    "    test_size=0.10,\n",
    "    random_state=42,\n",
    "    stratify=df.loc[X_train_].label.values,\n",
    ")"
   ]
  },
  {
   "cell_type": "code",
   "execution_count": 76,
   "metadata": {},
   "outputs": [
    {
     "name": "stdout",
     "output_type": "stream",
     "text": [
      "Requirement already satisfied: WordCloud in d:\\anaconda\\envs\\ten_gpu\\lib\\site-packages (1.9.2)\n",
      "Requirement already satisfied: STOPWORDS in d:\\anaconda\\envs\\ten_gpu\\lib\\site-packages (1.0.0)\n",
      "Requirement already satisfied: numpy>=1.6.1 in d:\\anaconda\\envs\\ten_gpu\\lib\\site-packages (from WordCloud) (1.26.0)\n",
      "Requirement already satisfied: pillow in d:\\anaconda\\envs\\ten_gpu\\lib\\site-packages (from WordCloud) (10.0.1)\n",
      "Requirement already satisfied: matplotlib in d:\\anaconda\\envs\\ten_gpu\\lib\\site-packages (from WordCloud) (3.7.2)\n",
      "Requirement already satisfied: contourpy>=1.0.1 in d:\\anaconda\\envs\\ten_gpu\\lib\\site-packages (from matplotlib->WordCloud) (1.0.5)\n",
      "Requirement already satisfied: cycler>=0.10 in d:\\anaconda\\envs\\ten_gpu\\lib\\site-packages (from matplotlib->WordCloud) (0.11.0)\n",
      "Requirement already satisfied: fonttools>=4.22.0 in d:\\anaconda\\envs\\ten_gpu\\lib\\site-packages (from matplotlib->WordCloud) (4.25.0)\n",
      "Requirement already satisfied: kiwisolver>=1.0.1 in d:\\anaconda\\envs\\ten_gpu\\lib\\site-packages (from matplotlib->WordCloud) (1.4.4)\n",
      "Requirement already satisfied: packaging>=20.0 in d:\\anaconda\\envs\\ten_gpu\\lib\\site-packages (from matplotlib->WordCloud) (23.1)\n",
      "Requirement already satisfied: pyparsing<3.1,>=2.3.1 in d:\\anaconda\\envs\\ten_gpu\\lib\\site-packages (from matplotlib->WordCloud) (3.0.9)\n",
      "Requirement already satisfied: python-dateutil>=2.7 in d:\\anaconda\\envs\\ten_gpu\\lib\\site-packages (from matplotlib->WordCloud) (2.8.2)\n",
      "Requirement already satisfied: importlib-resources>=3.2.0 in d:\\anaconda\\envs\\ten_gpu\\lib\\site-packages (from matplotlib->WordCloud) (5.2.0)\n",
      "Requirement already satisfied: zipp>=3.1.0 in d:\\anaconda\\envs\\ten_gpu\\lib\\site-packages (from importlib-resources>=3.2.0->matplotlib->WordCloud) (3.11.0)\n",
      "Requirement already satisfied: six>=1.5 in d:\\anaconda\\envs\\ten_gpu\\lib\\site-packages (from python-dateutil>=2.7->matplotlib->WordCloud) (1.16.0)\n"
     ]
    },
    {
     "name": "stderr",
     "output_type": "stream",
     "text": [
      "WARNING: Ignoring invalid distribution -rotobuf (d:\\anaconda\\envs\\ten_gpu\\lib\\site-packages)\n",
      "WARNING: Ignoring invalid distribution -rotobuf (d:\\anaconda\\envs\\ten_gpu\\lib\\site-packages)\n"
     ]
    }
   ],
   "source": [
    "!pip install WordCloud STOPWORDS"
   ]
  },
  {
   "cell_type": "code",
   "execution_count": 77,
   "metadata": {
    "colab": {
     "base_uri": "https://localhost:8080/",
     "height": 320
    },
    "id": "_pfE3Yg2FVMn",
    "outputId": "47cff7e5-0cac-4f8b-96b0-90a6df381e2f"
   },
   "outputs": [
    {
     "name": "stdout",
     "output_type": "stream",
     "text": [
      "<class 'set'>\n",
      "<wordcloud.wordcloud.WordCloud object at 0x0000022325A18280>\n"
     ]
    },
    {
     "data": {
      "image/png": "[encoded data removed]",
      "text/plain": [
       "<Figure size 640x480 with 1 Axes>"
      ]
     },
     "metadata": {},
     "output_type": "display_data"
    }
   ],
   "source": [
    "from wordcloud import WordCloud, STOPWORDS\n",
    "stopwords = set(STOPWORDS)\n",
    "stopwords.add(\"RT\")\n",
    "\n",
    "print(type(STOPWORDS))\n",
    "\n",
    "import random\n",
    "\n",
    "def random_color_func(word=None, font_size=None, position=None,  orientation=None, font_path=None, random_state=None):\n",
    "    h = 344\n",
    "    s = int(100.0 * 255.0 / 255.0)\n",
    "    l = int(100.0 * float(random_state.randint(60, 120)) / 255.0)\n",
    "    return \"hsl({}, {}%, {}%)\".format(h, s, l)\n",
    "\n",
    "wordcloud = WordCloud(\n",
    "                          background_color='white',\n",
    "                          stopwords=stopwords,\n",
    "                          max_words=200,\n",
    "                          max_font_size=60,\n",
    "                          random_state=42\n",
    "                         ).generate(str(df.loc[df[\"category\"]==\"offensive_language\"].text))\n",
    "print(wordcloud)\n",
    "fig = plt.figure(1)\n",
    "plt.imshow(wordcloud.recolor(color_func= random_color_func, random_state=3),\n",
    "           interpolation=\"bilinear\")\n",
    "plt.axis('off')\n",
    "plt.show()"
   ]
  },
  {
   "cell_type": "code",
   "execution_count": 78,
   "metadata": {
    "colab": {
     "base_uri": "https://localhost:8080/",
     "height": 302
    },
    "id": "ydZN-HtVFYXQ",
    "outputId": "9c2b5849-0653-4718-c470-1a1b7f1e7cf3"
   },
   "outputs": [
    {
     "name": "stdout",
     "output_type": "stream",
     "text": [
      "<wordcloud.wordcloud.WordCloud object at 0x0000022321896E80>\n"
     ]
    },
    {
     "data": {
      "image/png": "[encoded data removed]",
      "text/plain": [
       "<Figure size 640x480 with 1 Axes>"
      ]
     },
     "metadata": {},
     "output_type": "display_data"
    }
   ],
   "source": [
    "def random_color_func(word=None, font_size=None, position=None,  orientation=None, font_path=None, random_state=None):\n",
    "    h = 20\n",
    "    s = int(100.0 * 255.0 / 255.0)\n",
    "    l = int(100.0 * float(random_state.randint(60, 120)) / 255.0)\n",
    "    return \"hsl({}, {}%, {}%)\".format(h, s, l)\n",
    "\n",
    "wordcloud = WordCloud(\n",
    "                          background_color='white',\n",
    "                          stopwords=stopwords,\n",
    "                          max_words=200,\n",
    "                          max_font_size=60,\n",
    "                          random_state=42\n",
    "                         ).generate(str((df.loc[df[\"category\"]==\"neither\"].text)))\n",
    "print(wordcloud)\n",
    "fig = plt.figure(1)\n",
    "plt.imshow(wordcloud.recolor(color_func= random_color_func, random_state=3),\n",
    "           interpolation=\"bilinear\")\n",
    "plt.axis('off')\n",
    "plt.show()\n"
   ]
  },
  {
   "cell_type": "code",
   "execution_count": 79,
   "metadata": {
    "colab": {
     "base_uri": "https://localhost:8080/",
     "height": 302
    },
    "id": "sdhkHCPXFbcQ",
    "outputId": "184a2257-9f40-42a9-db15-cb681dbc4346"
   },
   "outputs": [
    {
     "name": "stdout",
     "output_type": "stream",
     "text": [
      "<wordcloud.wordcloud.WordCloud object at 0x0000022325FAF1F0>\n"
     ]
    },
    {
     "data": {
      "image/png": "[encoded data removed]",
      "text/plain": [
       "<Figure size 640x480 with 1 Axes>"
      ]
     },
     "metadata": {},
     "output_type": "display_data"
    }
   ],
   "source": [
    "stopwords.add(\"Name\")\n",
    "\n",
    "def random_color_func(word=None, font_size=None, position=None,  orientation=None, font_path=None, random_state=None):\n",
    "    h = 180\n",
    "    s = int(100.0 * 255.0 / 255.0)\n",
    "    l = int(100.0 * float(random_state.randint(60, 120)) / 255.0)\n",
    "    return \"hsl({}, {}%, {}%)\".format(h, s, l)\n",
    "\n",
    "wordcloud = WordCloud(\n",
    "                          background_color='white',\n",
    "                          stopwords=stopwords,\n",
    "                          max_words=200,\n",
    "                          max_font_size=60,\n",
    "                          random_state=42\n",
    "                         ).generate(str((df.loc[df[\"category\"]==\"hate_speech\"].text)))\n",
    "print(wordcloud)\n",
    "fig = plt.figure(1)\n",
    "plt.imshow(wordcloud.recolor(color_func= random_color_func, random_state=3),\n",
    "           interpolation=\"bilinear\")\n",
    "plt.axis('off')\n",
    "plt.show()\n"
   ]
  },
  {
   "cell_type": "code",
   "execution_count": 80,
   "metadata": {
    "colab": {
     "base_uri": "https://localhost:8080/"
    },
    "id": "HmfVS0lZF71_",
    "outputId": "c3e1cddf-9dfc-4b4d-81ca-b1ab1f131897",
    "scrolled": true
   },
   "outputs": [
    {
     "name": "stdout",
     "output_type": "stream",
     "text": [
      "BERT model selected           : https://tfhub.dev/tensorflow/small_bert/bert_en_uncased_L-4_H-512_A-8/1\n",
      "Preprocess model auto-selected: https://tfhub.dev/tensorflow/bert_en_uncased_preprocess/1\n"
     ]
    }
   ],
   "source": [
    "bert_model_name = 'small_bert/bert_en_uncased_L-4_H-512_A-8'\n",
    "#bert_model_name = 'bert_en_uncased_L-12_H-768_A-12'\n",
    "\n",
    "map_name_to_handle = {\n",
    "    'bert_en_uncased_L-12_H-768_A-12':\n",
    "        'https://tfhub.dev/tensorflow/bert_en_uncased_L-12_H-768_A-12/3',\n",
    "    'bert_en_cased_L-12_H-768_A-12':\n",
    "        'https://tfhub.dev/tensorflow/bert_en_cased_L-12_H-768_A-12/3',\n",
    "    'bert_multi_cased_L-12_H-768_A-12':\n",
    "        'https://tfhub.dev/tensorflow/bert_multi_cased_L-12_H-768_A-12/3',\n",
    "    'small_bert/bert_en_uncased_L-2_H-128_A-2':\n",
    "        'https://tfhub.dev/tensorflow/small_bert/bert_en_uncased_L-2_H-128_A-2/1',\n",
    "    'small_bert/bert_en_uncased_L-2_H-256_A-4':\n",
    "        'https://tfhub.dev/tensorflow/small_bert/bert_en_uncased_L-2_H-256_A-4/1',\n",
    "    'small_bert/bert_en_uncased_L-2_H-512_A-8':\n",
    "        'https://tfhub.dev/tensorflow/small_bert/bert_en_uncased_L-2_H-512_A-8/1',\n",
    "    'small_bert/bert_en_uncased_L-2_H-768_A-12':\n",
    "        'https://tfhub.dev/tensorflow/small_bert/bert_en_uncased_L-2_H-768_A-12/1',\n",
    "    'small_bert/bert_en_uncased_L-4_H-128_A-2':\n",
    "        'https://tfhub.dev/tensorflow/small_bert/bert_en_uncased_L-4_H-128_A-2/1',\n",
    "    'small_bert/bert_en_uncased_L-4_H-256_A-4':\n",
    "        'https://tfhub.dev/tensorflow/small_bert/bert_en_uncased_L-4_H-256_A-4/1',\n",
    "    'small_bert/bert_en_uncased_L-4_H-512_A-8':\n",
    "        'https://tfhub.dev/tensorflow/small_bert/bert_en_uncased_L-4_H-512_A-8/1',\n",
    "    'small_bert/bert_en_uncased_L-4_H-768_A-12':\n",
    "        'https://tfhub.dev/tensorflow/small_bert/bert_en_uncased_L-4_H-768_A-12/1',\n",
    "    'small_bert/bert_en_uncased_L-6_H-128_A-2':\n",
    "        'https://tfhub.dev/tensorflow/small_bert/bert_en_uncased_L-6_H-128_A-2/1',\n",
    "    'small_bert/bert_en_uncased_L-6_H-256_A-4':\n",
    "        'https://tfhub.dev/tensorflow/small_bert/bert_en_uncased_L-6_H-256_A-4/1',\n",
    "    'small_bert/bert_en_uncased_L-6_H-512_A-8':\n",
    "        'https://tfhub.dev/tensorflow/small_bert/bert_en_uncased_L-6_H-512_A-8/1',\n",
    "    'small_bert/bert_en_uncased_L-6_H-768_A-12':\n",
    "        'https://tfhub.dev/tensorflow/small_bert/bert_en_uncased_L-6_H-768_A-12/1',\n",
    "    'small_bert/bert_en_uncased_L-8_H-128_A-2':\n",
    "        'https://tfhub.dev/tensorflow/small_bert/bert_en_uncased_L-8_H-128_A-2/1',\n",
    "    'small_bert/bert_en_uncased_L-8_H-256_A-4':\n",
    "        'https://tfhub.dev/tensorflow/small_bert/bert_en_uncased_L-8_H-256_A-4/1',\n",
    "    'small_bert/bert_en_uncased_L-8_H-512_A-8':\n",
    "        'https://tfhub.dev/tensorflow/small_bert/bert_en_uncased_L-8_H-512_A-8/1',\n",
    "    'small_bert/bert_en_uncased_L-8_H-768_A-12':\n",
    "        'https://tfhub.dev/tensorflow/small_bert/bert_en_uncased_L-8_H-768_A-12/1',\n",
    "    'small_bert/bert_en_uncased_L-10_H-128_A-2':\n",
    "        'https://tfhub.dev/tensorflow/small_bert/bert_en_uncased_L-10_H-128_A-2/1',\n",
    "    'small_bert/bert_en_uncased_L-10_H-256_A-4':\n",
    "        'https://tfhub.dev/tensorflow/small_bert/bert_en_uncased_L-10_H-256_A-4/1',\n",
    "    'small_bert/bert_en_uncased_L-10_H-512_A-8':\n",
    "        'https://tfhub.dev/tensorflow/small_bert/bert_en_uncased_L-10_H-512_A-8/1',\n",
    "    'small_bert/bert_en_uncased_L-10_H-768_A-12':\n",
    "        'https://tfhub.dev/tensorflow/small_bert/bert_en_uncased_L-10_H-768_A-12/1',\n",
    "    'small_bert/bert_en_uncased_L-12_H-128_A-2':\n",
    "        'https://tfhub.dev/tensorflow/small_bert/bert_en_uncased_L-12_H-128_A-2/1',\n",
    "    'small_bert/bert_en_uncased_L-12_H-256_A-4':\n",
    "        'https://tfhub.dev/tensorflow/small_bert/bert_en_uncased_L-12_H-256_A-4/1',\n",
    "    'small_bert/bert_en_uncased_L-12_H-512_A-8':\n",
    "        'https://tfhub.dev/tensorflow/small_bert/bert_en_uncased_L-12_H-512_A-8/1',\n",
    "    'small_bert/bert_en_uncased_L-12_H-768_A-12':\n",
    "        'https://tfhub.dev/tensorflow/small_bert/bert_en_uncased_L-12_H-768_A-12/1',\n",
    "    'albert_en_base':\n",
    "        'https://tfhub.dev/tensorflow/albert_en_base/2',\n",
    "    'electra_small':\n",
    "        'https://tfhub.dev/google/electra_small/2',\n",
    "    'electra_base':\n",
    "        'https://tfhub.dev/google/electra_base/2',\n",
    "    'experts_pubmed':\n",
    "        'https://tfhub.dev/google/experts/bert/pubmed/2',\n",
    "    'experts_wiki_books':\n",
    "        'https://tfhub.dev/google/experts/bert/wiki_books/2',\n",
    "    'talking-heads_base':\n",
    "        'https://tfhub.dev/tensorflow/talkheads_ggelu_bert_en_base/1',\n",
    "}\n",
    "\n",
    "map_model_to_preprocess = {\n",
    "    'bert_en_uncased_L-12_H-768_A-12':\n",
    "        'https://tfhub.dev/tensorflow/bert_en_uncased_preprocess/1',\n",
    "    'bert_en_cased_L-12_H-768_A-12':\n",
    "        'https://tfhub.dev/tensorflow/bert_en_cased_preprocess/1',\n",
    "    'small_bert/bert_en_uncased_L-2_H-128_A-2':\n",
    "        'https://tfhub.dev/tensorflow/bert_en_uncased_preprocess/1',\n",
    "    'small_bert/bert_en_uncased_L-2_H-256_A-4':\n",
    "        'https://tfhub.dev/tensorflow/bert_en_uncased_preprocess/1',\n",
    "    'small_bert/bert_en_uncased_L-2_H-512_A-8':\n",
    "        'https://tfhub.dev/tensorflow/bert_en_uncased_preprocess/1',\n",
    "    'small_bert/bert_en_uncased_L-2_H-768_A-12':\n",
    "        'https://tfhub.dev/tensorflow/bert_en_uncased_preprocess/1',\n",
    "    'small_bert/bert_en_uncased_L-4_H-128_A-2':\n",
    "        'https://tfhub.dev/tensorflow/bert_en_uncased_preprocess/1',\n",
    "    'small_bert/bert_en_uncased_L-4_H-256_A-4':\n",
    "        'https://tfhub.dev/tensorflow/bert_en_uncased_preprocess/1',\n",
    "    'small_bert/bert_en_uncased_L-4_H-512_A-8':\n",
    "        'https://tfhub.dev/tensorflow/bert_en_uncased_preprocess/1',\n",
    "    'small_bert/bert_en_uncased_L-4_H-768_A-12':\n",
    "        'https://tfhub.dev/tensorflow/bert_en_uncased_preprocess/1',\n",
    "    'small_bert/bert_en_uncased_L-6_H-128_A-2':\n",
    "        'https://tfhub.dev/tensorflow/bert_en_uncased_preprocess/1',\n",
    "    'small_bert/bert_en_uncased_L-6_H-256_A-4':\n",
    "        'https://tfhub.dev/tensorflow/bert_en_uncased_preprocess/1',\n",
    "    'small_bert/bert_en_uncased_L-6_H-512_A-8':\n",
    "        'https://tfhub.dev/tensorflow/bert_en_uncased_preprocess/1',\n",
    "    'small_bert/bert_en_uncased_L-6_H-768_A-12':\n",
    "        'https://tfhub.dev/tensorflow/bert_en_uncased_preprocess/1',\n",
    "    'small_bert/bert_en_uncased_L-8_H-128_A-2':\n",
    "        'https://tfhub.dev/tensorflow/bert_en_uncased_preprocess/1',\n",
    "    'small_bert/bert_en_uncased_L-8_H-256_A-4':\n",
    "        'https://tfhub.dev/tensorflow/bert_en_uncased_preprocess/1',\n",
    "    'small_bert/bert_en_uncased_L-8_H-512_A-8':\n",
    "        'https://tfhub.dev/tensorflow/bert_en_uncased_preprocess/1',\n",
    "    'small_bert/bert_en_uncased_L-8_H-768_A-12':\n",
    "        'https://tfhub.dev/tensorflow/bert_en_uncased_preprocess/1',\n",
    "    'small_bert/bert_en_uncased_L-10_H-128_A-2':\n",
    "        'https://tfhub.dev/tensorflow/bert_en_uncased_preprocess/1',\n",
    "    'small_bert/bert_en_uncased_L-10_H-256_A-4':\n",
    "        'https://tfhub.dev/tensorflow/bert_en_uncased_preprocess/1',\n",
    "    'small_bert/bert_en_uncased_L-10_H-512_A-8':\n",
    "        'https://tfhub.dev/tensorflow/bert_en_uncased_preprocess/1',\n",
    "    'small_bert/bert_en_uncased_L-10_H-768_A-12':\n",
    "        'https://tfhub.dev/tensorflow/bert_en_uncased_preprocess/1',\n",
    "    'small_bert/bert_en_uncased_L-12_H-128_A-2':\n",
    "        'https://tfhub.dev/tensorflow/bert_en_uncased_preprocess/1',\n",
    "    'small_bert/bert_en_uncased_L-12_H-256_A-4':\n",
    "        'https://tfhub.dev/tensorflow/bert_en_uncased_preprocess/1',\n",
    "    'small_bert/bert_en_uncased_L-12_H-512_A-8':\n",
    "        'https://tfhub.dev/tensorflow/bert_en_uncased_preprocess/1',\n",
    "    'small_bert/bert_en_uncased_L-12_H-768_A-12':\n",
    "        'https://tfhub.dev/tensorflow/bert_en_uncased_preprocess/1',\n",
    "    'bert_multi_cased_L-12_H-768_A-12':\n",
    "        'https://tfhub.dev/tensorflow/bert_multi_cased_preprocess/1',\n",
    "    'albert_en_base':\n",
    "        'https://tfhub.dev/tensorflow/albert_en_preprocess/1',\n",
    "    'electra_small':\n",
    "        'https://tfhub.dev/tensorflow/bert_en_uncased_preprocess/1',\n",
    "    'electra_base':\n",
    "        'https://tfhub.dev/tensorflow/bert_en_uncased_preprocess/1',\n",
    "    'experts_pubmed':\n",
    "        'https://tfhub.dev/tensorflow/bert_en_uncased_preprocess/1',\n",
    "    'experts_wiki_books':\n",
    "        'https://tfhub.dev/tensorflow/bert_en_uncased_preprocess/1',\n",
    "    'talking-heads_base':\n",
    "        'https://tfhub.dev/tensorflow/bert_en_uncased_preprocess/1',\n",
    "}\n",
    "\n",
    "tfhub_handle_encoder = map_name_to_handle[bert_model_name]\n",
    "tfhub_handle_preprocess = map_model_to_preprocess[bert_model_name]\n",
    "\n",
    "print(f'BERT model selected           : {tfhub_handle_encoder}')\n",
    "print(f'Preprocess model auto-selected: {tfhub_handle_preprocess}')"
   ]
  },
  {
   "cell_type": "code",
   "execution_count": 81,
   "metadata": {},
   "outputs": [],
   "source": [
    "#!pip -q install langchain huggingface_hub transformers sentence_transformers"
   ]
  },
  {
   "cell_type": "code",
   "execution_count": 82,
   "metadata": {
    "scrolled": true
   },
   "outputs": [
    {
     "name": "stderr",
     "output_type": "stream",
     "text": [
      "loading configuration file config.json from cache at C:\\Users\\aksha/.cache\\huggingface\\hub\\models--igmarco--clasificador-hate_speech_offensive\\snapshots\\e73a8f19eb0633f02c898328f48c1a668d92837e\\config.json\n",
      "Model config BertConfig {\n",
      "  \"_name_or_path\": \"igmarco/clasificador-hate_speech_offensive\",\n",
      "  \"architectures\": [\n",
      "    \"BertForSequenceClassification\"\n",
      "  ],\n",
      "  \"attention_probs_dropout_prob\": 0.1,\n",
      "  \"classifier_dropout\": null,\n",
      "  \"gradient_checkpointing\": false,\n",
      "  \"hidden_act\": \"gelu\",\n",
      "  \"hidden_dropout_prob\": 0.1,\n",
      "  \"hidden_size\": 768,\n",
      "  \"id2label\": {\n",
      "    \"0\": \"LABEL_0\",\n",
      "    \"1\": \"LABEL_1\",\n",
      "    \"2\": \"LABEL_2\"\n",
      "  },\n",
      "  \"initializer_range\": 0.02,\n",
      "  \"intermediate_size\": 3072,\n",
      "  \"label2id\": {\n",
      "    \"LABEL_0\": 0,\n",
      "    \"LABEL_1\": 1,\n",
      "    \"LABEL_2\": 2\n",
      "  },\n",
      "  \"layer_norm_eps\": 1e-12,\n",
      "  \"max_position_embeddings\": 512,\n",
      "  \"model_type\": \"bert\",\n",
      "  \"num_attention_heads\": 12,\n",
      "  \"num_hidden_layers\": 12,\n",
      "  \"pad_token_id\": 0,\n",
      "  \"position_embedding_type\": \"absolute\",\n",
      "  \"problem_type\": \"single_label_classification\",\n",
      "  \"torch_dtype\": \"float32\",\n",
      "  \"transformers_version\": \"4.34.0\",\n",
      "  \"type_vocab_size\": 2,\n",
      "  \"use_cache\": true,\n",
      "  \"vocab_size\": 30522\n",
      "}\n",
      "\n",
      "loading configuration file config.json from cache at C:\\Users\\aksha/.cache\\huggingface\\hub\\models--igmarco--clasificador-hate_speech_offensive\\snapshots\\e73a8f19eb0633f02c898328f48c1a668d92837e\\config.json\n",
      "Model config BertConfig {\n",
      "  \"_name_or_path\": \"igmarco/clasificador-hate_speech_offensive\",\n",
      "  \"architectures\": [\n",
      "    \"BertForSequenceClassification\"\n",
      "  ],\n",
      "  \"attention_probs_dropout_prob\": 0.1,\n",
      "  \"classifier_dropout\": null,\n",
      "  \"gradient_checkpointing\": false,\n",
      "  \"hidden_act\": \"gelu\",\n",
      "  \"hidden_dropout_prob\": 0.1,\n",
      "  \"hidden_size\": 768,\n",
      "  \"id2label\": {\n",
      "    \"0\": \"LABEL_0\",\n",
      "    \"1\": \"LABEL_1\",\n",
      "    \"2\": \"LABEL_2\"\n",
      "  },\n",
      "  \"initializer_range\": 0.02,\n",
      "  \"intermediate_size\": 3072,\n",
      "  \"label2id\": {\n",
      "    \"LABEL_0\": 0,\n",
      "    \"LABEL_1\": 1,\n",
      "    \"LABEL_2\": 2\n",
      "  },\n",
      "  \"layer_norm_eps\": 1e-12,\n",
      "  \"max_position_embeddings\": 512,\n",
      "  \"model_type\": \"bert\",\n",
      "  \"num_attention_heads\": 12,\n",
      "  \"num_hidden_layers\": 12,\n",
      "  \"pad_token_id\": 0,\n",
      "  \"position_embedding_type\": \"absolute\",\n",
      "  \"problem_type\": \"single_label_classification\",\n",
      "  \"torch_dtype\": \"float32\",\n",
      "  \"transformers_version\": \"4.34.0\",\n",
      "  \"type_vocab_size\": 2,\n",
      "  \"use_cache\": true,\n",
      "  \"vocab_size\": 30522\n",
      "}\n",
      "\n",
      "loading weights file pytorch_model.bin from cache at C:\\Users\\aksha/.cache\\huggingface\\hub\\models--igmarco--clasificador-hate_speech_offensive\\snapshots\\e73a8f19eb0633f02c898328f48c1a668d92837e\\pytorch_model.bin\n",
      "All model checkpoint weights were used when initializing BertForSequenceClassification.\n",
      "\n",
      "All the weights of BertForSequenceClassification were initialized from the model checkpoint at igmarco/clasificador-hate_speech_offensive.\n",
      "If your task is similar to the task the model of the checkpoint was trained on, you can already use BertForSequenceClassification for predictions without further training.\n",
      "loading file vocab.txt from cache at C:\\Users\\aksha/.cache\\huggingface\\hub\\models--igmarco--clasificador-hate_speech_offensive\\snapshots\\e73a8f19eb0633f02c898328f48c1a668d92837e\\vocab.txt\n",
      "loading file tokenizer.json from cache at C:\\Users\\aksha/.cache\\huggingface\\hub\\models--igmarco--clasificador-hate_speech_offensive\\snapshots\\e73a8f19eb0633f02c898328f48c1a668d92837e\\tokenizer.json\n",
      "loading file added_tokens.json from cache at None\n",
      "loading file special_tokens_map.json from cache at C:\\Users\\aksha/.cache\\huggingface\\hub\\models--igmarco--clasificador-hate_speech_offensive\\snapshots\\e73a8f19eb0633f02c898328f48c1a668d92837e\\special_tokens_map.json\n",
      "loading file tokenizer_config.json from cache at C:\\Users\\aksha/.cache\\huggingface\\hub\\models--igmarco--clasificador-hate_speech_offensive\\snapshots\\e73a8f19eb0633f02c898328f48c1a668d92837e\\tokenizer_config.json\n"
     ]
    }
   ],
   "source": [
    "pipe = pipeline(\"text-classification\", model=\"igmarco/clasificador-hate_speech_offensive\")"
   ]
  },
  {
   "cell_type": "code",
   "execution_count": 89,
   "metadata": {},
   "outputs": [
    {
     "data": {
      "text/html": [
       "<div>\n",
       "<style scoped>\n",
       "    .dataframe tbody tr th:only-of-type {\n",
       "        vertical-align: middle;\n",
       "    }\n",
       "\n",
       "    .dataframe tbody tr th {\n",
       "        vertical-align: top;\n",
       "    }\n",
       "\n",
       "    .dataframe thead th {\n",
       "        text-align: right;\n",
       "    }\n",
       "</style>\n",
       "<table border=\"1\" class=\"dataframe\">\n",
       "  <thead>\n",
       "    <tr style=\"text-align: right;\">\n",
       "      <th></th>\n",
       "      <th>tweet</th>\n",
       "      <th>class</th>\n",
       "    </tr>\n",
       "  </thead>\n",
       "  <tbody>\n",
       "    <tr>\n",
       "      <th>0</th>\n",
       "      <td>Beats by Dr. Dre urBeats Wired In-Ear Headphon...</td>\n",
       "      <td>Neutral</td>\n",
       "    </tr>\n",
       "    <tr>\n",
       "      <th>1</th>\n",
       "      <td>RT @Papapishu: Man it would fucking rule if we...</td>\n",
       "      <td>Abusive</td>\n",
       "    </tr>\n",
       "    <tr>\n",
       "      <th>2</th>\n",
       "      <td>It is time to draw close to Him &amp;#128591;&amp;#127...</td>\n",
       "      <td>Neutral</td>\n",
       "    </tr>\n",
       "    <tr>\n",
       "      <th>3</th>\n",
       "      <td>if you notice me start to act different or dis...</td>\n",
       "      <td>Neutral</td>\n",
       "    </tr>\n",
       "    <tr>\n",
       "      <th>4</th>\n",
       "      <td>Forget unfollowers, I believe in growing. 7 ne...</td>\n",
       "      <td>Neutral</td>\n",
       "    </tr>\n",
       "    <tr>\n",
       "      <th>...</th>\n",
       "      <td>...</td>\n",
       "      <td>...</td>\n",
       "    </tr>\n",
       "    <tr>\n",
       "      <th>99991</th>\n",
       "      <td>RT @shangros: my fucking queen https://t.co/wa...</td>\n",
       "      <td>Abusive</td>\n",
       "    </tr>\n",
       "    <tr>\n",
       "      <th>99992</th>\n",
       "      <td>#Osteporosis treated with #PEMF - rebuild bone...</td>\n",
       "      <td>Neutral</td>\n",
       "    </tr>\n",
       "    <tr>\n",
       "      <th>99993</th>\n",
       "      <td>@LGUSAMobile why does my phone screen keeps fl...</td>\n",
       "      <td>Neutral</td>\n",
       "    </tr>\n",
       "    <tr>\n",
       "      <th>99994</th>\n",
       "      <td>#bigdata vs. #reality ... but equally applies ...</td>\n",
       "      <td>Neutral</td>\n",
       "    </tr>\n",
       "    <tr>\n",
       "      <th>99995</th>\n",
       "      <td>you can do whatever you choose, if you first g...</td>\n",
       "      <td>Neutral</td>\n",
       "    </tr>\n",
       "  </tbody>\n",
       "</table>\n",
       "<p>99994 rows × 2 columns</p>\n",
       "</div>"
      ],
      "text/plain": [
       "                                                   tweet    class\n",
       "0      Beats by Dr. Dre urBeats Wired In-Ear Headphon...  Neutral\n",
       "1      RT @Papapishu: Man it would fucking rule if we...  Abusive\n",
       "2      It is time to draw close to Him &#128591;&#127...  Neutral\n",
       "3      if you notice me start to act different or dis...  Neutral\n",
       "4      Forget unfollowers, I believe in growing. 7 ne...  Neutral\n",
       "...                                                  ...      ...\n",
       "99991  RT @shangros: my fucking queen https://t.co/wa...  Abusive\n",
       "99992  #Osteporosis treated with #PEMF - rebuild bone...  Neutral\n",
       "99993  @LGUSAMobile why does my phone screen keeps fl...  Neutral\n",
       "99994  #bigdata vs. #reality ... but equally applies ...  Neutral\n",
       "99995  you can do whatever you choose, if you first g...  Neutral\n",
       "\n",
       "[99994 rows x 2 columns]"
      ]
     },
     "execution_count": 89,
     "metadata": {},
     "output_type": "execute_result"
    }
   ],
   "source": [
    "df1"
   ]
  },
  {
   "cell_type": "code",
   "execution_count": 90,
   "metadata": {},
   "outputs": [],
   "source": [
    "custom_class_mapping = {\n",
    "    0: \"Hate\",\n",
    "    1: \"Abusive\",\n",
    "    2: \"Neutral\",\n",
    "}"
   ]
  },
  {
   "cell_type": "code",
   "execution_count": 91,
   "metadata": {},
   "outputs": [],
   "source": [
    "for class_id, new_label in custom_class_mapping.items():\n",
    "    pipe.model.config.id2label[class_id] = new_label"
   ]
  },
  {
   "cell_type": "code",
   "execution_count": 92,
   "metadata": {
    "scrolled": true
   },
   "outputs": [
    {
     "name": "stdout",
     "output_type": "stream",
     "text": [
      "{0: 'Hate', 1: 'Abusive', 2: 'Neutral'}\n"
     ]
    }
   ],
   "source": [
    "updated_output_classes = pipe.model.config.id2label\n",
    "print(updated_output_classes)"
   ]
  },
  {
   "cell_type": "code",
   "execution_count": 93,
   "metadata": {},
   "outputs": [],
   "source": [
    "correctly_classified = 0\n",
    "incorrectly_classified = 0\n",
    "\n",
    "true_labels = []  # To store true labels\n",
    "predicted_labels = []  # To store predicted labels"
   ]
  },
  {
   "cell_type": "code",
   "execution_count": 94,
   "metadata": {},
   "outputs": [
    {
     "data": {
      "text/html": [
       "<div>\n",
       "<style scoped>\n",
       "    .dataframe tbody tr th:only-of-type {\n",
       "        vertical-align: middle;\n",
       "    }\n",
       "\n",
       "    .dataframe tbody tr th {\n",
       "        vertical-align: top;\n",
       "    }\n",
       "\n",
       "    .dataframe thead th {\n",
       "        text-align: right;\n",
       "    }\n",
       "</style>\n",
       "<table border=\"1\" class=\"dataframe\">\n",
       "  <thead>\n",
       "    <tr style=\"text-align: right;\">\n",
       "      <th></th>\n",
       "      <th>tweet</th>\n",
       "      <th>class</th>\n",
       "    </tr>\n",
       "  </thead>\n",
       "  <tbody>\n",
       "    <tr>\n",
       "      <th>0</th>\n",
       "      <td>Beats by Dr. Dre urBeats Wired In-Ear Headphon...</td>\n",
       "      <td>Neutral</td>\n",
       "    </tr>\n",
       "    <tr>\n",
       "      <th>1</th>\n",
       "      <td>RT @Papapishu: Man it would fucking rule if we...</td>\n",
       "      <td>Abusive</td>\n",
       "    </tr>\n",
       "    <tr>\n",
       "      <th>2</th>\n",
       "      <td>It is time to draw close to Him &amp;#128591;&amp;#127...</td>\n",
       "      <td>Neutral</td>\n",
       "    </tr>\n",
       "    <tr>\n",
       "      <th>3</th>\n",
       "      <td>if you notice me start to act different or dis...</td>\n",
       "      <td>Neutral</td>\n",
       "    </tr>\n",
       "    <tr>\n",
       "      <th>4</th>\n",
       "      <td>Forget unfollowers, I believe in growing. 7 ne...</td>\n",
       "      <td>Neutral</td>\n",
       "    </tr>\n",
       "    <tr>\n",
       "      <th>...</th>\n",
       "      <td>...</td>\n",
       "      <td>...</td>\n",
       "    </tr>\n",
       "    <tr>\n",
       "      <th>99991</th>\n",
       "      <td>RT @shangros: my fucking queen https://t.co/wa...</td>\n",
       "      <td>Abusive</td>\n",
       "    </tr>\n",
       "    <tr>\n",
       "      <th>99992</th>\n",
       "      <td>#Osteporosis treated with #PEMF - rebuild bone...</td>\n",
       "      <td>Neutral</td>\n",
       "    </tr>\n",
       "    <tr>\n",
       "      <th>99993</th>\n",
       "      <td>@LGUSAMobile why does my phone screen keeps fl...</td>\n",
       "      <td>Neutral</td>\n",
       "    </tr>\n",
       "    <tr>\n",
       "      <th>99994</th>\n",
       "      <td>#bigdata vs. #reality ... but equally applies ...</td>\n",
       "      <td>Neutral</td>\n",
       "    </tr>\n",
       "    <tr>\n",
       "      <th>99995</th>\n",
       "      <td>you can do whatever you choose, if you first g...</td>\n",
       "      <td>Neutral</td>\n",
       "    </tr>\n",
       "  </tbody>\n",
       "</table>\n",
       "<p>99994 rows × 2 columns</p>\n",
       "</div>"
      ],
      "text/plain": [
       "                                                   tweet    class\n",
       "0      Beats by Dr. Dre urBeats Wired In-Ear Headphon...  Neutral\n",
       "1      RT @Papapishu: Man it would fucking rule if we...  Abusive\n",
       "2      It is time to draw close to Him &#128591;&#127...  Neutral\n",
       "3      if you notice me start to act different or dis...  Neutral\n",
       "4      Forget unfollowers, I believe in growing. 7 ne...  Neutral\n",
       "...                                                  ...      ...\n",
       "99991  RT @shangros: my fucking queen https://t.co/wa...  Abusive\n",
       "99992  #Osteporosis treated with #PEMF - rebuild bone...  Neutral\n",
       "99993  @LGUSAMobile why does my phone screen keeps fl...  Neutral\n",
       "99994  #bigdata vs. #reality ... but equally applies ...  Neutral\n",
       "99995  you can do whatever you choose, if you first g...  Neutral\n",
       "\n",
       "[99994 rows x 2 columns]"
      ]
     },
     "execution_count": 94,
     "metadata": {},
     "output_type": "execute_result"
    }
   ],
   "source": [
    "df1"
   ]
  },
  {
   "cell_type": "code",
   "execution_count": null,
   "metadata": {
    "scrolled": false
   },
   "outputs": [
    {
     "name": "stdout",
     "output_type": "stream",
     "text": [
      "Row 37377 - True Label: Neutral, Predicted Label: Neutral\n",
      "Row 85818 - True Label: Neutral, Predicted Label: Neutral\n",
      "Row 31155 - True Label: Abusive, Predicted Label: Abusive\n",
      "Row 75913 - True Label: Neutral, Predicted Label: Neutral\n",
      "Row 83726 - True Label: Neutral, Predicted Label: Neutral\n",
      "Row 56605 - True Label: Abusive, Predicted Label: Abusive\n",
      "Row 74606 - True Label: Neutral, Predicted Label: Neutral\n",
      "Row 22271 - True Label: Abusive, Predicted Label: Abusive\n",
      "Row 3887 - True Label: Abusive, Predicted Label: Abusive\n",
      "Row 34488 - True Label: Neutral, Predicted Label: Neutral\n",
      "Row 40459 - True Label: Neutral, Predicted Label: Neutral\n",
      "Row 80991 - True Label: Neutral, Predicted Label: Neutral\n",
      "Row 84832 - True Label: Abusive, Predicted Label: Abusive\n",
      "Row 50248 - True Label: Neutral, Predicted Label: Neutral\n",
      "Row 88108 - True Label: Neutral, Predicted Label: Neutral\n",
      "Row 54123 - True Label: Neutral, Predicted Label: Neutral\n",
      "Row 5945 - True Label: Neutral, Predicted Label: Neutral\n",
      "Row 6945 - True Label: Abusive, Predicted Label: Abusive\n",
      "Row 62680 - True Label: Neutral, Predicted Label: Neutral\n",
      "Row 32397 - True Label: Abusive, Predicted Label: Abusive\n",
      "Row 82437 - True Label: Neutral, Predicted Label: Neutral\n",
      "Row 65074 - True Label: Neutral, Predicted Label: Neutral\n",
      "Row 29557 - True Label: Neutral, Predicted Label: Neutral\n",
      "Row 75228 - True Label: Abusive, Predicted Label: Abusive\n",
      "Row 82665 - True Label: Neutral, Predicted Label: Neutral\n",
      "Row 37212 - True Label: Neutral, Predicted Label: Neutral\n",
      "Row 32091 - True Label: Neutral, Predicted Label: Neutral\n",
      "Row 72425 - True Label: Neutral, Predicted Label: Neutral\n",
      "Row 20769 - True Label: Neutral, Predicted Label: Neutral\n",
      "Row 61868 - True Label: Neutral, Predicted Label: Neutral\n",
      "Row 28772 - True Label: Hate, Predicted Label: Hate\n",
      "Row 57889 - True Label: Neutral, Predicted Label: Neutral\n",
      "Row 61764 - True Label: Neutral, Predicted Label: Neutral\n",
      "Row 5028 - True Label: Abusive, Predicted Label: Abusive\n",
      "Row 35985 - True Label: Neutral, Predicted Label: Neutral\n",
      "Row 20539 - True Label: Neutral, Predicted Label: Neutral\n",
      "Row 23889 - True Label: Neutral, Predicted Label: Neutral\n",
      "Row 12796 - True Label: Neutral, Predicted Label: Neutral\n",
      "Row 38479 - True Label: Abusive, Predicted Label: Abusive\n",
      "Row 74643 - True Label: Hate, Predicted Label: Hate\n",
      "Row 91309 - True Label: Neutral, Predicted Label: Neutral\n",
      "Row 68550 - True Label: Neutral, Predicted Label: Neutral\n",
      "Row 52686 - True Label: Neutral, Predicted Label: Neutral\n",
      "Row 49653 - True Label: Abusive, Predicted Label: Abusive\n",
      "Row 57294 - True Label: Neutral, Predicted Label: Neutral\n",
      "Row 3385 - True Label: Abusive, Predicted Label: Abusive\n",
      "Row 40705 - True Label: Neutral, Predicted Label: Neutral\n",
      "Row 77610 - True Label: Abusive, Predicted Label: Abusive\n",
      "Row 78267 - True Label: Neutral, Predicted Label: Neutral\n",
      "Row 87594 - True Label: Neutral, Predicted Label: Neutral\n",
      "Row 49254 - True Label: Neutral, Predicted Label: Neutral\n",
      "Row 48318 - True Label: Abusive, Predicted Label: Abusive\n",
      "Row 17968 - True Label: Abusive, Predicted Label: Abusive\n",
      "Row 81717 - True Label: Neutral, Predicted Label: Neutral\n",
      "Row 81522 - True Label: Neutral, Predicted Label: Neutral\n",
      "Row 37520 - True Label: Neutral, Predicted Label: Neutral\n",
      "Row 34807 - True Label: Abusive, Predicted Label: Abusive\n",
      "Row 468 - True Label: Neutral, Predicted Label: Neutral\n",
      "Row 32901 - True Label: Neutral, Predicted Label: Neutral\n",
      "Row 40118 - True Label: Neutral, Predicted Label: Neutral\n",
      "Row 76159 - True Label: Neutral, Predicted Label: Neutral\n",
      "Row 68204 - True Label: Abusive, Predicted Label: Abusive\n",
      "Row 22097 - True Label: Neutral, Predicted Label: Neutral\n",
      "Row 86410 - True Label: Abusive, Predicted Label: Abusive\n",
      "Row 98377 - True Label: Neutral, Predicted Label: Neutral\n",
      "Row 20917 - True Label: Abusive, Predicted Label: Abusive\n",
      "Row 24246 - True Label: Neutral, Predicted Label: Neutral\n",
      "Row 82497 - True Label: Neutral, Predicted Label: Neutral\n",
      "Row 79580 - True Label: Neutral, Predicted Label: Neutral\n",
      "Row 76173 - True Label: Abusive, Predicted Label: Abusive\n",
      "Row 64847 - True Label: Neutral, Predicted Label: Neutral\n",
      "Row 25786 - True Label: Neutral, Predicted Label: Neutral\n",
      "Row 92292 - True Label: Abusive, Predicted Label: Abusive\n",
      "Row 8361 - True Label: Neutral, Predicted Label: Neutral\n",
      "Row 64973 - True Label: Neutral, Predicted Label: Neutral\n",
      "Row 57651 - True Label: Neutral, Predicted Label: Neutral\n",
      "Row 35260 - True Label: Abusive, Predicted Label: Abusive\n",
      "Row 26888 - True Label: Neutral, Predicted Label: Neutral\n",
      "Row 47179 - True Label: Neutral, Predicted Label: Neutral\n",
      "Row 57198 - True Label: Neutral, Predicted Label: Neutral\n",
      "Row 61062 - True Label: Hate, Predicted Label: Neutral\n",
      "Row 15901 - True Label: Neutral, Predicted Label: Neutral\n",
      "Row 1032 - True Label: Neutral, Predicted Label: Neutral\n",
      "Row 14010 - True Label: Neutral, Predicted Label: Neutral\n",
      "Row 44318 - True Label: Hate, Predicted Label: Abusive\n",
      "Row 12647 - True Label: Abusive, Predicted Label: Abusive\n",
      "Row 86548 - True Label: Neutral, Predicted Label: Neutral\n",
      "Row 10103 - True Label: Neutral, Predicted Label: Neutral\n",
      "Row 42278 - True Label: Abusive, Predicted Label: Abusive\n",
      "Row 46246 - True Label: Neutral, Predicted Label: Abusive\n",
      "Row 53997 - True Label: Abusive, Predicted Label: Abusive\n",
      "Row 34686 - True Label: Neutral, Predicted Label: Neutral\n",
      "Row 52529 - True Label: Neutral, Predicted Label: Neutral\n",
      "Row 98783 - True Label: Abusive, Predicted Label: Abusive\n",
      "Row 8619 - True Label: Neutral, Predicted Label: Neutral\n",
      "Row 29630 - True Label: Neutral, Predicted Label: Neutral\n",
      "Row 18171 - True Label: Neutral, Predicted Label: Neutral\n",
      "Row 50572 - True Label: Neutral, Predicted Label: Neutral\n",
      "Row 91374 - True Label: Neutral, Predicted Label: Neutral\n",
      "Row 23947 - True Label: Abusive, Predicted Label: Abusive\n",
      "Row 95751 - True Label: Neutral, Predicted Label: Neutral\n",
      "Row 79035 - True Label: Abusive, Predicted Label: Neutral\n",
      "Row 90742 - True Label: Hate, Predicted Label: Neutral\n",
      "Row 77065 - True Label: Neutral, Predicted Label: Neutral\n",
      "Row 27334 - True Label: Abusive, Predicted Label: Abusive\n",
      "Row 12304 - True Label: Neutral, Predicted Label: Abusive\n",
      "Row 88480 - True Label: Hate, Predicted Label: Neutral\n",
      "Row 90303 - True Label: Abusive, Predicted Label: Neutral\n",
      "Row 16584 - True Label: Abusive, Predicted Label: Abusive\n",
      "Row 39336 - True Label: Neutral, Predicted Label: Neutral\n",
      "Row 19693 - True Label: Neutral, Predicted Label: Neutral\n",
      "Row 91679 - True Label: Hate, Predicted Label: Neutral\n",
      "Row 6191 - True Label: Neutral, Predicted Label: Neutral\n",
      "Row 17553 - True Label: Neutral, Predicted Label: Neutral\n",
      "Row 77857 - True Label: Neutral, Predicted Label: Neutral\n",
      "Row 12037 - True Label: Neutral, Predicted Label: Neutral\n",
      "Row 49690 - True Label: Neutral, Predicted Label: Neutral\n",
      "Row 12661 - True Label: Abusive, Predicted Label: Abusive\n",
      "Row 35807 - True Label: Neutral, Predicted Label: Neutral\n",
      "Row 56791 - True Label: Neutral, Predicted Label: Neutral\n",
      "Row 47247 - True Label: Neutral, Predicted Label: Neutral\n",
      "Row 59757 - True Label: Neutral, Predicted Label: Abusive\n",
      "Row 88202 - True Label: Abusive, Predicted Label: Abusive\n",
      "Row 71946 - True Label: Neutral, Predicted Label: Abusive\n",
      "Row 20711 - True Label: Neutral, Predicted Label: Neutral\n",
      "Row 91695 - True Label: Neutral, Predicted Label: Neutral\n",
      "Row 81757 - True Label: Neutral, Predicted Label: Neutral\n",
      "Row 88376 - True Label: Abusive, Predicted Label: Abusive\n",
      "Row 79199 - True Label: Hate, Predicted Label: Neutral\n",
      "Row 43797 - True Label: Neutral, Predicted Label: Neutral\n",
      "Row 94647 - True Label: Abusive, Predicted Label: Abusive\n",
      "Row 84228 - True Label: Neutral, Predicted Label: Neutral\n",
      "Row 60067 - True Label: Abusive, Predicted Label: Abusive\n",
      "Row 47356 - True Label: Abusive, Predicted Label: Abusive\n",
      "Row 73186 - True Label: Abusive, Predicted Label: Abusive\n",
      "Row 94429 - True Label: Neutral, Predicted Label: Neutral\n",
      "Row 3795 - True Label: Neutral, Predicted Label: Neutral\n",
      "Row 41289 - True Label: Abusive, Predicted Label: Abusive\n",
      "Row 51604 - True Label: Neutral, Predicted Label: Neutral\n",
      "Row 28874 - True Label: Neutral, Predicted Label: Neutral\n",
      "Row 70657 - True Label: Neutral, Predicted Label: Neutral\n",
      "Row 38971 - True Label: Abusive, Predicted Label: Abusive\n"
     ]
    },
    {
     "name": "stdout",
     "output_type": "stream",
     "text": [
      "Row 21621 - True Label: Abusive, Predicted Label: Neutral\n",
      "Row 57331 - True Label: Neutral, Predicted Label: Abusive\n",
      "Row 74630 - True Label: Neutral, Predicted Label: Neutral\n",
      "Row 97980 - True Label: Neutral, Predicted Label: Neutral\n",
      "Row 77670 - True Label: Neutral, Predicted Label: Neutral\n",
      "Row 43629 - True Label: Neutral, Predicted Label: Neutral\n",
      "Row 37448 - True Label: Abusive, Predicted Label: Abusive\n",
      "Row 27121 - True Label: Neutral, Predicted Label: Neutral\n",
      "Row 45578 - True Label: Neutral, Predicted Label: Neutral\n",
      "Row 89103 - True Label: Abusive, Predicted Label: Abusive\n",
      "Row 99779 - True Label: Neutral, Predicted Label: Abusive\n",
      "Row 95474 - True Label: Neutral, Predicted Label: Neutral\n",
      "Row 75557 - True Label: Abusive, Predicted Label: Abusive\n",
      "Row 41331 - True Label: Abusive, Predicted Label: Abusive\n",
      "Row 90203 - True Label: Neutral, Predicted Label: Neutral\n",
      "Row 30979 - True Label: Neutral, Predicted Label: Neutral\n",
      "Row 51779 - True Label: Neutral, Predicted Label: Neutral\n",
      "Row 5953 - True Label: Abusive, Predicted Label: Hate\n",
      "Row 53378 - True Label: Hate, Predicted Label: Neutral\n",
      "Row 31081 - True Label: Neutral, Predicted Label: Neutral\n",
      "Row 50795 - True Label: Neutral, Predicted Label: Abusive\n",
      "Row 58111 - True Label: Neutral, Predicted Label: Neutral\n",
      "Row 64604 - True Label: Neutral, Predicted Label: Neutral\n",
      "Row 14277 - True Label: Abusive, Predicted Label: Abusive\n",
      "Row 2688 - True Label: Neutral, Predicted Label: Neutral\n",
      "Row 47830 - True Label: Neutral, Predicted Label: Neutral\n",
      "Row 49282 - True Label: Abusive, Predicted Label: Abusive\n",
      "Row 13365 - True Label: Neutral, Predicted Label: Neutral\n",
      "Row 16093 - True Label: Neutral, Predicted Label: Neutral\n",
      "Row 19784 - True Label: Neutral, Predicted Label: Neutral\n",
      "Row 9684 - True Label: Neutral, Predicted Label: Neutral\n",
      "Row 58780 - True Label: Neutral, Predicted Label: Neutral\n",
      "Row 31251 - True Label: Neutral, Predicted Label: Neutral\n",
      "Row 9300 - True Label: Neutral, Predicted Label: Neutral\n",
      "Row 98345 - True Label: Neutral, Predicted Label: Neutral\n",
      "Row 83249 - True Label: Abusive, Predicted Label: Abusive\n",
      "Row 30943 - True Label: Neutral, Predicted Label: Neutral\n",
      "Row 96914 - True Label: Neutral, Predicted Label: Neutral\n",
      "Row 42898 - True Label: Hate, Predicted Label: Neutral\n",
      "Row 41218 - True Label: Neutral, Predicted Label: Neutral\n",
      "Row 40418 - True Label: Neutral, Predicted Label: Neutral\n",
      "Row 32952 - True Label: Neutral, Predicted Label: Neutral\n",
      "Row 21607 - True Label: Neutral, Predicted Label: Abusive\n",
      "Row 97481 - True Label: Neutral, Predicted Label: Neutral\n",
      "Row 30703 - True Label: Neutral, Predicted Label: Neutral\n",
      "Row 50021 - True Label: Abusive, Predicted Label: Abusive\n",
      "Row 14752 - True Label: Neutral, Predicted Label: Neutral\n",
      "Row 45721 - True Label: Neutral, Predicted Label: Hate\n",
      "Row 61512 - True Label: Hate, Predicted Label: Neutral\n",
      "Row 1919 - True Label: Neutral, Predicted Label: Neutral\n",
      "Row 169 - True Label: Neutral, Predicted Label: Neutral\n",
      "Row 81104 - True Label: Neutral, Predicted Label: Neutral\n",
      "Row 76081 - True Label: Neutral, Predicted Label: Neutral\n",
      "Row 98327 - True Label: Neutral, Predicted Label: Neutral\n",
      "Row 6537 - True Label: Abusive, Predicted Label: Abusive\n",
      "Row 54210 - True Label: Abusive, Predicted Label: Abusive\n",
      "Row 45370 - True Label: Hate, Predicted Label: Abusive\n",
      "Row 38360 - True Label: Abusive, Predicted Label: Abusive\n",
      "Row 16374 - True Label: Neutral, Predicted Label: Neutral\n",
      "Row 80468 - True Label: Abusive, Predicted Label: Neutral\n",
      "Row 95619 - True Label: Neutral, Predicted Label: Neutral\n",
      "Row 78026 - True Label: Abusive, Predicted Label: Abusive\n",
      "Row 59032 - True Label: Neutral, Predicted Label: Neutral\n",
      "Row 45939 - True Label: Neutral, Predicted Label: Neutral\n",
      "Row 65445 - True Label: Neutral, Predicted Label: Neutral\n",
      "Row 3247 - True Label: Neutral, Predicted Label: Abusive\n",
      "Row 44136 - True Label: Neutral, Predicted Label: Abusive\n",
      "Row 64610 - True Label: Neutral, Predicted Label: Neutral\n",
      "Row 16884 - True Label: Neutral, Predicted Label: Neutral\n",
      "Row 13690 - True Label: Neutral, Predicted Label: Neutral\n",
      "Row 15516 - True Label: Neutral, Predicted Label: Neutral\n",
      "Row 97330 - True Label: Abusive, Predicted Label: Abusive\n",
      "Row 32036 - True Label: Neutral, Predicted Label: Neutral\n",
      "Row 89420 - True Label: Neutral, Predicted Label: Neutral\n",
      "Row 94363 - True Label: Abusive, Predicted Label: Abusive\n",
      "Row 81593 - True Label: Neutral, Predicted Label: Neutral\n",
      "Row 41137 - True Label: Neutral, Predicted Label: Neutral\n",
      "Row 15844 - True Label: Neutral, Predicted Label: Neutral\n",
      "Row 60272 - True Label: Neutral, Predicted Label: Neutral\n",
      "Row 83679 - True Label: Abusive, Predicted Label: Abusive\n",
      "Row 35353 - True Label: Abusive, Predicted Label: Abusive\n",
      "Row 26768 - True Label: Neutral, Predicted Label: Neutral\n",
      "Row 75121 - True Label: Neutral, Predicted Label: Neutral\n",
      "Row 69659 - True Label: Neutral, Predicted Label: Neutral\n",
      "Row 85127 - True Label: Neutral, Predicted Label: Hate\n",
      "Row 33069 - True Label: Abusive, Predicted Label: Abusive\n",
      "Row 90095 - True Label: Abusive, Predicted Label: Abusive\n",
      "Row 12608 - True Label: Abusive, Predicted Label: Abusive\n",
      "Row 73757 - True Label: Abusive, Predicted Label: Abusive\n",
      "Row 64600 - True Label: Abusive, Predicted Label: Abusive\n",
      "Row 87436 - True Label: Neutral, Predicted Label: Neutral\n",
      "Row 30325 - True Label: Abusive, Predicted Label: Abusive\n",
      "Row 91438 - True Label: Neutral, Predicted Label: Neutral\n",
      "Row 97203 - True Label: Hate, Predicted Label: Abusive\n",
      "Row 92538 - True Label: Abusive, Predicted Label: Neutral\n",
      "Row 77376 - True Label: Neutral, Predicted Label: Neutral\n",
      "Row 95499 - True Label: Abusive, Predicted Label: Abusive\n",
      "Row 59886 - True Label: Neutral, Predicted Label: Neutral\n",
      "Row 60823 - True Label: Neutral, Predicted Label: Neutral\n",
      "Row 18825 - True Label: Neutral, Predicted Label: Neutral\n",
      "Row 1836 - True Label: Neutral, Predicted Label: Neutral\n",
      "Row 85449 - True Label: Neutral, Predicted Label: Neutral\n",
      "Row 93889 - True Label: Neutral, Predicted Label: Neutral\n",
      "Row 98739 - True Label: Abusive, Predicted Label: Neutral\n",
      "Row 49350 - True Label: Abusive, Predicted Label: Abusive\n",
      "Row 18950 - True Label: Neutral, Predicted Label: Neutral\n",
      "Row 98719 - True Label: Neutral, Predicted Label: Neutral\n",
      "Row 59827 - True Label: Neutral, Predicted Label: Neutral\n",
      "Row 83849 - True Label: Neutral, Predicted Label: Neutral\n",
      "Row 38545 - True Label: Abusive, Predicted Label: Abusive\n",
      "Row 6627 - True Label: Abusive, Predicted Label: Abusive\n",
      "Row 9476 - True Label: Neutral, Predicted Label: Neutral\n",
      "Row 50864 - True Label: Neutral, Predicted Label: Neutral\n",
      "Row 44270 - True Label: Neutral, Predicted Label: Neutral\n",
      "Row 34386 - True Label: Neutral, Predicted Label: Neutral\n",
      "Row 21132 - True Label: Abusive, Predicted Label: Abusive\n",
      "Row 57767 - True Label: Abusive, Predicted Label: Abusive\n",
      "Row 88708 - True Label: Neutral, Predicted Label: Neutral\n",
      "Row 23097 - True Label: Neutral, Predicted Label: Neutral\n",
      "Row 6934 - True Label: Neutral, Predicted Label: Neutral\n",
      "Row 15295 - True Label: Abusive, Predicted Label: Abusive\n",
      "Row 3695 - True Label: Neutral, Predicted Label: Neutral\n",
      "Row 53599 - True Label: Neutral, Predicted Label: Neutral\n",
      "Row 83294 - True Label: Abusive, Predicted Label: Abusive\n",
      "Row 179 - True Label: Neutral, Predicted Label: Neutral\n",
      "Row 21849 - True Label: Neutral, Predicted Label: Neutral\n",
      "Row 41900 - True Label: Neutral, Predicted Label: Neutral\n",
      "Row 73795 - True Label: Neutral, Predicted Label: Neutral\n",
      "Row 77319 - True Label: Neutral, Predicted Label: Abusive\n",
      "Row 80000 - True Label: Abusive, Predicted Label: Abusive\n",
      "Row 23350 - True Label: Abusive, Predicted Label: Abusive\n",
      "Row 19259 - True Label: Neutral, Predicted Label: Neutral\n",
      "Row 43738 - True Label: Neutral, Predicted Label: Neutral\n",
      "Row 75436 - True Label: Neutral, Predicted Label: Neutral\n",
      "Row 15292 - True Label: Neutral, Predicted Label: Neutral\n",
      "Row 58241 - True Label: Neutral, Predicted Label: Neutral\n",
      "Row 70719 - True Label: Neutral, Predicted Label: Neutral\n",
      "Row 38796 - True Label: Neutral, Predicted Label: Neutral\n",
      "Row 75249 - True Label: Neutral, Predicted Label: Neutral\n",
      "Row 45469 - True Label: Abusive, Predicted Label: Abusive\n",
      "Row 83290 - True Label: Neutral, Predicted Label: Neutral\n",
      "Row 29934 - True Label: Neutral, Predicted Label: Neutral\n"
     ]
    },
    {
     "name": "stdout",
     "output_type": "stream",
     "text": [
      "Row 19003 - True Label: Neutral, Predicted Label: Neutral\n"
     ]
    }
   ],
   "source": [
    "for row_num in sample_indices:\n",
    "    row = df1.loc[row_num]\n",
    "    text = row['tweet']\n",
    "    true_label = row['class']\n",
    "\n",
    "    # Use the model to make predictions\n",
    "    predicted_label = pipe(text)[0][\"label\"]\n",
    "\n",
    "    # Update the predicted_label in the dataframe\n",
    "    df1.at[row_num, 'predicted_column'] = predicted_label\n",
    "\n",
    "    # Store true and predicted labels for later analysis\n",
    "    true_labels.append(true_label)\n",
    "    predicted_labels.append(predicted_label)\n",
    "    print(f\"Row {row_num} - True Label: {true_label}, Predicted Label: {predicted_label}\")\n",
    "\n",
    "    # Check if the prediction is correct\n",
    "    if true_label == predicted_label:\n",
    "        correctly_classified += 1\n",
    "    else:\n",
    "        incorrectly_classified += 1\n",
    "\n",
    "# Print the total correct and incorrect classifications\n",
    "print(f\"Correctly classified: {correctly_classified}\")\n",
    "print(f\"Incorrectly classified: {incorrectly_classified}\")"
   ]
  },
  {
   "cell_type": "code",
   "execution_count": null,
   "metadata": {},
   "outputs": [],
   "source": [
    "accuracy = accuracy_score(true_labels, predicted_labels)\n",
    "report = classification_report(true_labels, predicted_labels)\n",
    "conf_matrix = confusion_matrix(true_labels, predicted_labels)\n",
    "\n",
    "print(\"Accuracy:\", accuracy)\n",
    "print(\"\\nClassification Report:\\n\", report)\n",
    "print(\"\\nConfusion Matrix:\\n\", conf_matrix)"
   ]
  }
 ],
 "metadata": {
  "accelerator": "GPU",
  "colab": {
   "collapsed_sections": [
    "nQqjyMKztAUZ",
    "T01_N_hIToYY",
    "_z1t8HPuUH2h",
    "TOkW1TFXZmxl"
   ],
   "provenance": []
  },
  "kernelspec": {
   "display_name": "Python 3 (ipykernel)",
   "language": "python",
   "name": "python3"
  },
  "language_info": {
   "codemirror_mode": {
    "name": "ipython",
    "version": 3
   },
   "file_extension": ".py",
   "mimetype": "text/x-python",
   "name": "python",
   "nbconvert_exporter": "python",
   "pygments_lexer": "ipython3",
   "version": "3.9.18"
  }
 },
 "nbformat": 4,
 "nbformat_minor": 1
}
